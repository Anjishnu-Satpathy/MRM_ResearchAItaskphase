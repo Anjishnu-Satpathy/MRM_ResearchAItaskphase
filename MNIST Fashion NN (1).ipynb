{
 "cells": [
  {
   "cell_type": "code",
   "execution_count": 101,
   "id": "ac484ff8",
   "metadata": {},
   "outputs": [],
   "source": [
    "import pandas as pd\n",
    "import numpy as np\n",
    "import matplotlib as plt\n",
    "\n",
    "data1=pd.read_csv(r\"C:\\Users\\Anjishnu Satpathy\\Downloads\\Week-4-Project\\Week-4-Project\\fashion-mnist_train.csv\")\n"
   ]
  },
  {
   "cell_type": "code",
   "execution_count": 102,
   "id": "0e8a2121",
   "metadata": {},
   "outputs": [],
   "source": [
    "data1= np.array(data1)\n",
    "m,n= data1.shape\n",
    "data_train=data1.T\n",
    "Y_train=data_train[0]\n",
    "X_train=data_train[1:n]\n"
   ]
  },
  {
   "cell_type": "code",
   "execution_count": 103,
   "id": "26ae5f53",
   "metadata": {},
   "outputs": [
    {
     "data": {
      "text/plain": [
       "(60000,)"
      ]
     },
     "execution_count": 103,
     "metadata": {},
     "output_type": "execute_result"
    }
   ],
   "source": [
    "Y_train.shape"
   ]
  },
  {
   "cell_type": "code",
   "execution_count": 104,
   "id": "72d26d0a",
   "metadata": {},
   "outputs": [],
   "source": [
    "def init_param():\n",
    "    W1= np.random.rand(10,784)-0.5\n",
    "    b1= np.random.rand(10,1)-0.5\n",
    "    W2= np.random.rand(10,10)-0.5\n",
    "    b2= np.random.rand(10,1)-0.5\n",
    "    return W1,b1,W2,b2\n",
    "\n",
    "def reLU(Z):\n",
    "    return np.maximum(Z,0)\n",
    "\n",
    "def softmax(Z):\n",
    "    return(np.exp(Z - np.max(Z)) / np.exp(Z - np.max(Z)).sum())\n",
    "\n",
    "def forward_prop(W1,b1,W2,b2,X):\n",
    "    Z1= W1.dot(X) + b1\n",
    "    A1= reLU(Z1)\n",
    "    Z2= W2.dot(A1) + b2\n",
    "    A2= softmax(Z2)\n",
    "    return Z1,A1,Z2,A2\n",
    "\n",
    "def reLU_deriv(Z):\n",
    "    return Z > 0\n",
    "\n",
    "#ONEHOTencoder copied code\n",
    "def one_hot(Y):\n",
    "    one_hot_Y = np.zeros((Y.size, Y.max() + 1))\n",
    "    one_hot_Y[np.arange(Y.size), Y] = 1\n",
    "    one_hot_Y = one_hot_Y.T\n",
    "    return one_hot_Y\n",
    "\n",
    "def back_prop(Z1,A1,Z2,A2,W1,W2,X,Y):\n",
    "    onehot_Y= one_hot(Y)\n",
    "    dZ2= A2 - onehot_Y\n",
    "    dW2= 1/m * dZ2.dot(A1.T)\n",
    "    db2= 1/m * np.sum(dZ2)\n",
    "    dZ1= W2.T.dot(dZ2) * reLU_deriv(Z1)\n",
    "    dW1= 1/m * dZ1.dot(X.T)\n",
    "    db1= 1/m * np.sum(dZ1)\n",
    "    return dW1,db1,dW2,db2\n",
    "\n",
    "def update_params(W1,b1,W2,b2,dW1,db1,dW2,db2,alpha):\n",
    "    W1= W1 - alpha*dW1\n",
    "    b1= b1 - alpha*db1\n",
    "    W2= W2 - alpha*dW2\n",
    "    b2= b2 - alpha*db2\n",
    "    return W1,b1,W2,b2\n",
    "    "
   ]
  },
  {
   "cell_type": "code",
   "execution_count": 105,
   "id": "963700ea",
   "metadata": {},
   "outputs": [],
   "source": [
    "def gradient_descent(X,Y,alpha,iterations):\n",
    "    W1,b1,W2,b2 = init_param()\n",
    "    for i in range(iterations):\n",
    "        Z1,A1,Z2,A2 = forward_prop(W1,b1,W2,b2,X)\n",
    "        dW1,db1,dW2,db2 = back_prop(Z1,A1,Z2,A2,W1,W2,X,Y)\n",
    "        W1,b1,W2,b2 = update_params(W1,b1,W2,b2,dW1,db1,dW2,db2,alpha)\n",
    "        if i % 10==0: \n",
    "            print(\"Iteration: \", i)\n",
    "            prediction = get_predictions(A2)\n",
    "            print(get_accuracy(prediction,Y))\n",
    "    return W1,b1,W2,b2\n",
    "\n",
    "def get_predictions(A2):\n",
    "    return np.argmax(A2, 0)\n",
    "\n",
    "def get_accuracy(predictions, Y):\n",
    "    print(predictions, Y)\n",
    "    return np.sum(predictions == Y) / Y.size        "
   ]
  },
  {
   "cell_type": "code",
   "execution_count": 106,
   "id": "26651f83",
   "metadata": {
    "scrolled": true
   },
   "outputs": [
    {
     "name": "stdout",
     "output_type": "stream",
     "text": [
      "Iteration:  0\n",
      "[0 0 0 ... 0 0 0] [2 9 6 ... 8 8 7]\n",
      "0.09996666666666666\n",
      "Iteration:  10\n",
      "[0 0 0 ... 0 0 0] [2 9 6 ... 8 8 7]\n",
      "0.1\n",
      "Iteration:  20\n",
      "[0 0 0 ... 0 0 0] [2 9 6 ... 8 8 7]\n",
      "0.1\n"
     ]
    },
    {
     "ename": "KeyboardInterrupt",
     "evalue": "",
     "output_type": "error",
     "traceback": [
      "\u001b[1;31m---------------------------------------------------------------------------\u001b[0m",
      "\u001b[1;31mKeyboardInterrupt\u001b[0m                         Traceback (most recent call last)",
      "Cell \u001b[1;32mIn[106], line 1\u001b[0m\n\u001b[1;32m----> 1\u001b[0m W1, b1, W2, b2 \u001b[38;5;241m=\u001b[39m \u001b[43mgradient_descent\u001b[49m\u001b[43m(\u001b[49m\u001b[43mX_train\u001b[49m\u001b[43m,\u001b[49m\u001b[43m \u001b[49m\u001b[43mY_train\u001b[49m\u001b[43m,\u001b[49m\u001b[43m \u001b[49m\u001b[38;5;241;43m0.10\u001b[39;49m\u001b[43m,\u001b[49m\u001b[43m \u001b[49m\u001b[38;5;241;43m500\u001b[39;49m\u001b[43m)\u001b[49m\n",
      "Cell \u001b[1;32mIn[105], line 5\u001b[0m, in \u001b[0;36mgradient_descent\u001b[1;34m(X, Y, alpha, iterations)\u001b[0m\n\u001b[0;32m      3\u001b[0m \u001b[38;5;28;01mfor\u001b[39;00m i \u001b[38;5;129;01min\u001b[39;00m \u001b[38;5;28mrange\u001b[39m(iterations):\n\u001b[0;32m      4\u001b[0m     Z1,A1,Z2,A2 \u001b[38;5;241m=\u001b[39m forward_prop(W1,b1,W2,b2,X)\n\u001b[1;32m----> 5\u001b[0m     dW1,db1,dW2,db2 \u001b[38;5;241m=\u001b[39m \u001b[43mback_prop\u001b[49m\u001b[43m(\u001b[49m\u001b[43mZ1\u001b[49m\u001b[43m,\u001b[49m\u001b[43mA1\u001b[49m\u001b[43m,\u001b[49m\u001b[43mZ2\u001b[49m\u001b[43m,\u001b[49m\u001b[43mA2\u001b[49m\u001b[43m,\u001b[49m\u001b[43mW1\u001b[49m\u001b[43m,\u001b[49m\u001b[43mW2\u001b[49m\u001b[43m,\u001b[49m\u001b[43mX\u001b[49m\u001b[43m,\u001b[49m\u001b[43mY\u001b[49m\u001b[43m)\u001b[49m\n\u001b[0;32m      6\u001b[0m     W1,b1,W2,b2 \u001b[38;5;241m=\u001b[39m update_params(W1,b1,W2,b2,dW1,db1,dW2,db2,alpha)\n\u001b[0;32m      7\u001b[0m     \u001b[38;5;28;01mif\u001b[39;00m i \u001b[38;5;241m%\u001b[39m \u001b[38;5;241m10\u001b[39m\u001b[38;5;241m==\u001b[39m\u001b[38;5;241m0\u001b[39m: \n",
      "Cell \u001b[1;32mIn[104], line 37\u001b[0m, in \u001b[0;36mback_prop\u001b[1;34m(Z1, A1, Z2, A2, W1, W2, X, Y)\u001b[0m\n\u001b[0;32m     35\u001b[0m db2\u001b[38;5;241m=\u001b[39m \u001b[38;5;241m1\u001b[39m\u001b[38;5;241m/\u001b[39mm \u001b[38;5;241m*\u001b[39m np\u001b[38;5;241m.\u001b[39msum(dZ2)\n\u001b[0;32m     36\u001b[0m dZ1\u001b[38;5;241m=\u001b[39m W2\u001b[38;5;241m.\u001b[39mT\u001b[38;5;241m.\u001b[39mdot(dZ2) \u001b[38;5;241m*\u001b[39m reLU_deriv(Z1)\n\u001b[1;32m---> 37\u001b[0m dW1\u001b[38;5;241m=\u001b[39m \u001b[38;5;241m1\u001b[39m\u001b[38;5;241m/\u001b[39mm \u001b[38;5;241m*\u001b[39m dZ1\u001b[38;5;241m.\u001b[39mdot(X\u001b[38;5;241m.\u001b[39mT)\n\u001b[0;32m     38\u001b[0m db1\u001b[38;5;241m=\u001b[39m \u001b[38;5;241m1\u001b[39m\u001b[38;5;241m/\u001b[39mm \u001b[38;5;241m*\u001b[39m np\u001b[38;5;241m.\u001b[39msum(dZ1)\n\u001b[0;32m     39\u001b[0m \u001b[38;5;28;01mreturn\u001b[39;00m dW1,db1,dW2,db2\n",
      "\u001b[1;31mKeyboardInterrupt\u001b[0m: "
     ]
    }
   ],
   "source": [
    "W1, b1, W2, b2 = gradient_descent(X_train, Y_train, 0.10, 500)"
   ]
  },
  {
   "cell_type": "code",
   "execution_count": null,
   "id": "32a49220",
   "metadata": {},
   "outputs": [],
   "source": []
  },
  {
   "cell_type": "code",
   "execution_count": null,
   "id": "7503faf6",
   "metadata": {},
   "outputs": [],
   "source": []
  }
 ],
 "metadata": {
  "kernelspec": {
   "display_name": "Python 3 (ipykernel)",
   "language": "python",
   "name": "python3"
  },
  "language_info": {
   "codemirror_mode": {
    "name": "ipython",
    "version": 3
   },
   "file_extension": ".py",
   "mimetype": "text/x-python",
   "name": "python",
   "nbconvert_exporter": "python",
   "pygments_lexer": "ipython3",
   "version": "3.11.2"
  }
 },
 "nbformat": 4,
 "nbformat_minor": 5
}
